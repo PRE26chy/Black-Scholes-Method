{
 "cells": [
  {
   "cell_type": "code",
   "execution_count": 2,
   "id": "eec967d1",
   "metadata": {},
   "outputs": [],
   "source": [
    "import pandas as pd\n",
    "import math\n",
    "import numpy as np\n",
    "from scipy.stats import norm\n",
    "import datetime as dt\n",
    "\n",
    "# fetching data\n",
    "import yfinance as yf\n"
   ]
  },
  {
   "cell_type": "code",
   "execution_count": 3,
   "id": "b4e46554",
   "metadata": {},
   "outputs": [
    {
     "name": "stderr",
     "output_type": "stream",
     "text": [
      "\r",
      "[*********************100%***********************]  1 of 1 completed"
     ]
    },
    {
     "name": "stdout",
     "output_type": "stream",
     "text": [
      "Ticker             SPY\n",
      "Date                  \n",
      "2023-12-21  468.284119\n",
      "2023-12-22  469.225250\n",
      "2023-12-26  471.206573\n",
      "2023-12-27  472.058533\n",
      "2023-12-28  472.236847\n",
      "...                ...\n",
      "2024-12-13  604.210022\n",
      "2024-12-16  606.789978\n",
      "2024-12-17  604.289978\n",
      "2024-12-18  586.280029\n",
      "2024-12-19  586.099976\n",
      "\n",
      "[251 rows x 1 columns]\n"
     ]
    },
    {
     "name": "stderr",
     "output_type": "stream",
     "text": [
      "\n"
     ]
    }
   ],
   "source": [
    "stocks = ['SPY']\n",
    "years = 1\n",
    "endDate = dt.datetime.now()\n",
    "startDate = endDate- dt.timedelta(days = 365*years)\n",
    "adj_close_stock = yf.download(stocks, start=startDate, end=endDate)['Adj Close']\n",
    "\n",
    "print(adj_close_stock)"
   ]
  },
  {
   "cell_type": "code",
   "execution_count": 4,
   "id": "ba0aa26b",
   "metadata": {},
   "outputs": [
    {
     "name": "stdout",
     "output_type": "stream",
     "text": [
      "Ticker           SPY\n",
      "Date                \n",
      "2023-12-21       NaN\n",
      "2023-12-22  0.002010\n",
      "2023-12-26  0.004223\n",
      "2023-12-27  0.001808\n",
      "2023-12-28  0.000378\n",
      "...              ...\n",
      "2024-12-13 -0.000199\n",
      "2024-12-16  0.004270\n",
      "2024-12-17 -0.004120\n",
      "2024-12-18 -0.029803\n",
      "2024-12-19 -0.000307\n",
      "\n",
      "[251 rows x 1 columns]\n"
     ]
    }
   ],
   "source": [
    "Change_in_price = adj_close_stock.pct_change()\n",
    "print(Change_in_price)"
   ]
  },
  {
   "cell_type": "code",
   "execution_count": 59,
   "id": "04ebecca",
   "metadata": {},
   "outputs": [
    {
     "name": "stdout",
     "output_type": "stream",
     "text": [
      "Ticker\n",
      "SPY    0.123804\n",
      "dtype: float64\n"
     ]
    }
   ],
   "source": [
    "#Defining variables\n",
    "S = 586.1 #underlying price\n",
    "K = 550 #strike price\n",
    "T = 0.01643835616 #time\n",
    "r = 4.50 #risk-free rate\n",
    "vol = np.std(Change_in_price)*np.sqrt(252) #volatility(sigma sign)\n",
    "print(vol)\n"
   ]
  },
  {
   "cell_type": "code",
   "execution_count": 60,
   "id": "e3db816c",
   "metadata": {},
   "outputs": [
    {
     "data": {
      "text/plain": [
       "Ticker\n",
       "SPY    4.059543\n",
       "dtype: float64"
      ]
     },
     "execution_count": 60,
     "metadata": {},
     "output_type": "execute_result"
    }
   ],
   "source": [
    "d1 = (np.log(S/K) + (r*0.01 + 0.5*vol*vol)*T)/(sigma*np.sqrt(T))\n",
    "d1"
   ]
  },
  {
   "cell_type": "code",
   "execution_count": 61,
   "id": "5ee5d1a3",
   "metadata": {},
   "outputs": [
    {
     "data": {
      "text/plain": [
       "Ticker\n",
       "SPY    4.04367\n",
       "dtype: float64"
      ]
     },
     "execution_count": 61,
     "metadata": {},
     "output_type": "execute_result"
    }
   ],
   "source": [
    "d2 = d1-(sigma*np.sqrt(T))\n",
    "d2"
   ]
  },
  {
   "cell_type": "code",
   "execution_count": 62,
   "id": "66d7e86a",
   "metadata": {},
   "outputs": [
    {
     "data": {
      "text/plain": [
       "array([36.50675002])"
      ]
     },
     "execution_count": 62,
     "metadata": {},
     "output_type": "execute_result"
    }
   ],
   "source": [
    "# Calculating call option price\n",
    "C = S*norm.cdf(d1) - K*math.exp(-r*0.01*T)*norm.cdf(d2)\n",
    "C"
   ]
  },
  {
   "cell_type": "code",
   "execution_count": 63,
   "id": "cb3d10da",
   "metadata": {},
   "outputs": [
    {
     "data": {
      "text/plain": [
       "array([5.11448999e-05])"
      ]
     },
     "execution_count": 63,
     "metadata": {},
     "output_type": "execute_result"
    }
   ],
   "source": [
    "#Calculating Put Option Price\n",
    "P = K*np.exp(-r*0.01*T)*norm.cdf(-d2)-S*norm.cdf(-d1)\n",
    "P"
   ]
  },
  {
   "cell_type": "code",
   "execution_count": 64,
   "id": "2761567f",
   "metadata": {},
   "outputs": [
    {
     "name": "stdout",
     "output_type": "stream",
     "text": [
      "The value of d1 is : Ticker\n",
      "SPY    4.0595\n",
      "dtype: float64\n",
      "The value of d2 is : Ticker\n",
      "SPY    4.0437\n",
      "dtype: float64\n",
      "The price of the call option is : $ [36.51]\n",
      "The price of the put option is : $ [0.]\n"
     ]
    }
   ],
   "source": [
    "# printing results\n",
    "print('The value of d1 is :', round(d1,4))\n",
    "print('The value of d2 is :', round(d2,4))\n",
    "print('The price of the call option is : $', np.round(C,2))\n",
    "print('The price of the put option is : $', np.round(P,2))"
   ]
  },
  {
   "cell_type": "code",
   "execution_count": null,
   "id": "268c5a03",
   "metadata": {},
   "outputs": [],
   "source": []
  }
 ],
 "metadata": {
  "kernelspec": {
   "display_name": "Python 3 (ipykernel)",
   "language": "python",
   "name": "python3"
  },
  "language_info": {
   "codemirror_mode": {
    "name": "ipython",
    "version": 3
   },
   "file_extension": ".py",
   "mimetype": "text/x-python",
   "name": "python",
   "nbconvert_exporter": "python",
   "pygments_lexer": "ipython3",
   "version": "3.10.9"
  }
 },
 "nbformat": 4,
 "nbformat_minor": 5
}
